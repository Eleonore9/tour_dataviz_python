{
 "cells": [
  {
   "cell_type": "code",
   "execution_count": 27,
   "metadata": {},
   "outputs": [
    {
     "data": {
      "text/plain": [
       "RendererRegistry.enable('notebook')"
      ]
     },
     "execution_count": 27,
     "metadata": {},
     "output_type": "execute_result"
    }
   ],
   "source": [
    "import pandas as pd\n",
    "import geopandas as gpd\n",
    "import ipywidgets as widgets\n",
    "from ipywidgets import interact, interactive, fixed, interact_manual\n",
    "# Use in Jupyter notebook: run 'jupyter nbextension enable --py --sys-prefix widgetsnbextension' in your terminal\n",
    "#import ipyleaflet\n",
    "# Use in Jupyter notebook: run 'jupyter nbextension enable --py --sys-prefix ipyleaflet' in your terminal\n",
    "import json \n",
    "import altair as alt\n",
    "from altair import Scale\n",
    "alt.renderers.enable('notebook')"
   ]
  },
  {
   "cell_type": "markdown",
   "metadata": {},
   "source": [
    "### Handle CSV data \n",
    "**Life expectancy and population data and projections**"
   ]
  },
  {
   "cell_type": "code",
   "execution_count": 28,
   "metadata": {},
   "outputs": [],
   "source": [
    "gm_proj_df = pd.read_csv('data/exp_popn_proj_full.csv', usecols=range(1,6))"
   ]
  },
  {
   "cell_type": "code",
   "execution_count": 29,
   "metadata": {},
   "outputs": [
    {
     "data": {
      "text/html": [
       "<div>\n",
       "<style scoped>\n",
       "    .dataframe tbody tr th:only-of-type {\n",
       "        vertical-align: middle;\n",
       "    }\n",
       "\n",
       "    .dataframe tbody tr th {\n",
       "        vertical-align: top;\n",
       "    }\n",
       "\n",
       "    .dataframe thead th {\n",
       "        text-align: right;\n",
       "    }\n",
       "</style>\n",
       "<table border=\"1\" class=\"dataframe\">\n",
       "  <thead>\n",
       "    <tr style=\"text-align: right;\">\n",
       "      <th></th>\n",
       "      <th>country</th>\n",
       "      <th>continent</th>\n",
       "      <th>year</th>\n",
       "      <th>lifeExp</th>\n",
       "      <th>pop</th>\n",
       "    </tr>\n",
       "  </thead>\n",
       "  <tbody>\n",
       "    <tr>\n",
       "      <td>0</td>\n",
       "      <td>Afghanistan</td>\n",
       "      <td>Asia</td>\n",
       "      <td>1952</td>\n",
       "      <td>28.801</td>\n",
       "      <td>8425333.0</td>\n",
       "    </tr>\n",
       "    <tr>\n",
       "      <td>1</td>\n",
       "      <td>Afghanistan</td>\n",
       "      <td>Asia</td>\n",
       "      <td>1957</td>\n",
       "      <td>30.332</td>\n",
       "      <td>9240934.0</td>\n",
       "    </tr>\n",
       "    <tr>\n",
       "      <td>2</td>\n",
       "      <td>Afghanistan</td>\n",
       "      <td>Asia</td>\n",
       "      <td>1962</td>\n",
       "      <td>31.997</td>\n",
       "      <td>10267083.0</td>\n",
       "    </tr>\n",
       "    <tr>\n",
       "      <td>3</td>\n",
       "      <td>Afghanistan</td>\n",
       "      <td>Asia</td>\n",
       "      <td>1967</td>\n",
       "      <td>34.020</td>\n",
       "      <td>11537966.0</td>\n",
       "    </tr>\n",
       "    <tr>\n",
       "      <td>4</td>\n",
       "      <td>Afghanistan</td>\n",
       "      <td>Asia</td>\n",
       "      <td>1972</td>\n",
       "      <td>36.088</td>\n",
       "      <td>13079460.0</td>\n",
       "    </tr>\n",
       "  </tbody>\n",
       "</table>\n",
       "</div>"
      ],
      "text/plain": [
       "       country continent  year  lifeExp         pop\n",
       "0  Afghanistan      Asia  1952   28.801   8425333.0\n",
       "1  Afghanistan      Asia  1957   30.332   9240934.0\n",
       "2  Afghanistan      Asia  1962   31.997  10267083.0\n",
       "3  Afghanistan      Asia  1967   34.020  11537966.0\n",
       "4  Afghanistan      Asia  1972   36.088  13079460.0"
      ]
     },
     "execution_count": 29,
     "metadata": {},
     "output_type": "execute_result"
    }
   ],
   "source": [
    "gm_proj_df.head()"
   ]
  },
  {
   "cell_type": "code",
   "execution_count": 30,
   "metadata": {},
   "outputs": [],
   "source": [
    "gm_proj_df = gm_proj_df.dropna()"
   ]
  },
  {
   "cell_type": "markdown",
   "metadata": {},
   "source": [
    "### Handle Geo data"
   ]
  },
  {
   "cell_type": "code",
   "execution_count": 31,
   "metadata": {},
   "outputs": [],
   "source": [
    "gpd_df = gpd.read_file('data/countries.geo.json')\n",
    "        \n",
    "data_geo = json.loads(gpd_df.to_json())"
   ]
  },
  {
   "cell_type": "markdown",
   "metadata": {},
   "source": [
    "### Create plot and map"
   ]
  },
  {
   "cell_type": "code",
   "execution_count": 45,
   "metadata": {},
   "outputs": [],
   "source": [
    "def create_plot(year):\n",
    "    year_df = gm_proj_df[gm_proj_df.year == year]\n",
    "    plot = alt.Chart(year_df, width=600, height=400).mark_circle(size=60).encode(\n",
    "        x='pop',\n",
    "        y=alt.Y('lifeExp', scale=Scale(zero=False)),\n",
    "        color='continent',\n",
    "        tooltip=['year', 'country', 'continent', 'lifeExp', 'pop']  \n",
    "    ).interactive()\n",
    "    \n",
    "    map_background = alt.Chart(alt.Data(values=data_geo['features'])).mark_geoshape(\n",
    "        fill='#967878',\n",
    "        stroke='#979dc4'\n",
    "    ).properties(\n",
    "        width=600,\n",
    "        height=400\n",
    "    ).project('equirectangular')\n",
    "    \n",
    "    map_data = alt.Chart(alt.Data(values=data_geo['features'])).mark_geoshape().encode(\n",
    "        color='lifeExp:Q'\n",
    "    ).transform_lookup(\n",
    "        lookup=\"properties.name\",\n",
    "        from_=alt.LookupData(year_df, 'country', ['lifeExp'])\n",
    "    ).project(\n",
    "        type='equirectangular'\n",
    "    ).properties(\n",
    "        width=600,\n",
    "        height=400\n",
    "    )\n",
    "    \n",
    "    chart = alt.vconcat(plot, map_background + map_data)\n",
    "    return chart"
   ]
  },
  {
   "cell_type": "code",
   "execution_count": 46,
   "metadata": {},
   "outputs": [
    {
     "data": {
      "application/vnd.jupyter.widget-view+json": {
       "model_id": "664d60740339465c856deab18a235fce",
       "version_major": 2,
       "version_minor": 0
      },
      "text/plain": [
       "interactive(children=(IntSlider(value=1950, description='year', max=2100, min=1950), Output()), _dom_classes=(…"
      ]
     },
     "metadata": {},
     "output_type": "display_data"
    }
   ],
   "source": [
    "year_range = sorted(set(gm_proj_df.year))\n",
    "interact(create_plot, year=widgets.IntSlider(min=min(year_range), max=max(year_range), step=1, value=10));"
   ]
  },
  {
   "cell_type": "code",
   "execution_count": null,
   "metadata": {},
   "outputs": [],
   "source": []
  }
 ],
 "metadata": {
  "kernelspec": {
   "display_name": "Python 3",
   "language": "python",
   "name": "python3"
  },
  "language_info": {
   "codemirror_mode": {
    "name": "ipython",
    "version": 3
   },
   "file_extension": ".py",
   "mimetype": "text/x-python",
   "name": "python",
   "nbconvert_exporter": "python",
   "pygments_lexer": "ipython3",
   "version": "3.6.8"
  }
 },
 "nbformat": 4,
 "nbformat_minor": 4
}
